{
 "cells": [
  {
   "cell_type": "markdown",
   "id": "b7fcc44f",
   "metadata": {},
   "source": [
    "# ACME Happiness Survey 2020 - Apziva Project 1\n",
    "\n",
    "This project involves classifying customers by satisfaction based on multiple factors. This project is split into two parts: The first is a classification model using linear and logistic regression, the second part involves an analysis of the factors to determine which are most predictive."
   ]
  },
  {
   "cell_type": "code",
   "execution_count": 1,
   "id": "89d60853",
   "metadata": {},
   "outputs": [
    {
     "data": {
      "text/html": [
       "<div>\n",
       "<style scoped>\n",
       "    .dataframe tbody tr th:only-of-type {\n",
       "        vertical-align: middle;\n",
       "    }\n",
       "\n",
       "    .dataframe tbody tr th {\n",
       "        vertical-align: top;\n",
       "    }\n",
       "\n",
       "    .dataframe thead th {\n",
       "        text-align: right;\n",
       "    }\n",
       "</style>\n",
       "<table border=\"1\" class=\"dataframe\">\n",
       "  <thead>\n",
       "    <tr style=\"text-align: right;\">\n",
       "      <th></th>\n",
       "      <th>Y</th>\n",
       "      <th>X1</th>\n",
       "      <th>X2</th>\n",
       "      <th>X3</th>\n",
       "      <th>X4</th>\n",
       "      <th>X5</th>\n",
       "      <th>X6</th>\n",
       "    </tr>\n",
       "  </thead>\n",
       "  <tbody>\n",
       "    <tr>\n",
       "      <th>0</th>\n",
       "      <td>0</td>\n",
       "      <td>3</td>\n",
       "      <td>3</td>\n",
       "      <td>3</td>\n",
       "      <td>4</td>\n",
       "      <td>2</td>\n",
       "      <td>4</td>\n",
       "    </tr>\n",
       "    <tr>\n",
       "      <th>1</th>\n",
       "      <td>0</td>\n",
       "      <td>3</td>\n",
       "      <td>2</td>\n",
       "      <td>3</td>\n",
       "      <td>5</td>\n",
       "      <td>4</td>\n",
       "      <td>3</td>\n",
       "    </tr>\n",
       "    <tr>\n",
       "      <th>2</th>\n",
       "      <td>1</td>\n",
       "      <td>5</td>\n",
       "      <td>3</td>\n",
       "      <td>3</td>\n",
       "      <td>3</td>\n",
       "      <td>3</td>\n",
       "      <td>5</td>\n",
       "    </tr>\n",
       "    <tr>\n",
       "      <th>3</th>\n",
       "      <td>0</td>\n",
       "      <td>5</td>\n",
       "      <td>4</td>\n",
       "      <td>3</td>\n",
       "      <td>3</td>\n",
       "      <td>3</td>\n",
       "      <td>5</td>\n",
       "    </tr>\n",
       "    <tr>\n",
       "      <th>4</th>\n",
       "      <td>0</td>\n",
       "      <td>5</td>\n",
       "      <td>4</td>\n",
       "      <td>3</td>\n",
       "      <td>3</td>\n",
       "      <td>3</td>\n",
       "      <td>5</td>\n",
       "    </tr>\n",
       "  </tbody>\n",
       "</table>\n",
       "</div>"
      ],
      "text/plain": [
       "   Y  X1  X2  X3  X4  X5  X6\n",
       "0  0   3   3   3   4   2   4\n",
       "1  0   3   2   3   5   4   3\n",
       "2  1   5   3   3   3   3   5\n",
       "3  0   5   4   3   3   3   5\n",
       "4  0   5   4   3   3   3   5"
      ]
     },
     "execution_count": 1,
     "metadata": {},
     "output_type": "execute_result"
    }
   ],
   "source": [
    "#Import data.\n",
    "\n",
    "import numpy as np\n",
    "import pandas as pd\n",
    "import matplotlib.pyplot as plt\n",
    "import seaborn as sns\n",
    "from sklearn.feature_selection import SelectKBest\n",
    "from sklearn.feature_selection import f_classif\n",
    "from sklearn.model_selection import train_test_split\n",
    "from sklearn.model_selection import KFold\n",
    "from sklearn.model_selection import cross_val_score\n",
    "from sklearn.linear_model import LinearRegression\n",
    "from sklearn.linear_model import LogisticRegression\n",
    "from sklearn.neighbors import KNeighborsClassifier\n",
    "from sklearn.tree import DecisionTreeClassifier\n",
    "from xgboost import XGBClassifier\n",
    "from sklearn import metrics\n",
    "\n",
    "from hyperopt import STATUS_OK, Trials, fmin, hp, tpe\n",
    "\n",
    "import lime\n",
    "import lime.lime_tabular\n",
    "import shap\n",
    "import time\n",
    "import os\n",
    "\n",
    "data = pd.read_csv('ACME-HappinessSurvey2020.csv')\n",
    "data.head()"
   ]
  },
  {
   "cell_type": "markdown",
   "id": "bad4d29c",
   "metadata": {},
   "source": [
    "# 1.0 Exploratory Data Analysis"
   ]
  },
  {
   "cell_type": "code",
   "execution_count": 2,
   "id": "09aeff89",
   "metadata": {
    "scrolled": true
   },
   "outputs": [
    {
     "name": "stdout",
     "output_type": "stream",
     "text": [
      "1    69\n",
      "0    57\n",
      "Name: Y, dtype: int64 \n",
      "\n",
      "5    65\n",
      "4    40\n",
      "3    20\n",
      "1     1\n",
      "Name: X1, dtype: int64\n",
      "Var: 0.6349206349206349\n",
      "\n",
      "3    42\n",
      "2    34\n",
      "1    27\n",
      "4    17\n",
      "5     6\n",
      "Name: X2, dtype: int64\n",
      "Var: 1.2331191735953648\n",
      "\n",
      "3    55\n",
      "4    33\n",
      "5    17\n",
      "2    14\n",
      "1     7\n",
      "Name: X3, dtype: int64\n",
      "Var: 1.0391156462585052\n",
      "\n",
      "4    53\n",
      "3    41\n",
      "5    25\n",
      "2     5\n",
      "1     2\n",
      "Name: X4, dtype: int64\n",
      "Var: 0.7608969513731412\n",
      "\n",
      "4    50\n",
      "5    31\n",
      "3    22\n",
      "2    16\n",
      "1     7\n",
      "Name: X5, dtype: int64\n",
      "Var: 1.3066263542454015\n",
      "\n",
      "5    57\n",
      "4    47\n",
      "3    20\n",
      "1     1\n",
      "2     1\n",
      "Name: X6, dtype: int64\n",
      "Var: 0.6497858402620306\n",
      "\n"
     ]
    }
   ],
   "source": [
    "#Variance\n",
    "\n",
    "columns = ['X1', 'X2', 'X3', 'X4', 'X5', 'X6']\n",
    "X = data[columns]\n",
    "y = data['Y']\n",
    "\n",
    "print(y.value_counts(), '\\n')\n",
    "\n",
    "for label in columns:\n",
    "    print(f'{data[label].value_counts()}\\nVar: {np.var(data[label])}\\n')"
   ]
  },
  {
   "cell_type": "code",
   "execution_count": 3,
   "id": "b1413961",
   "metadata": {},
   "outputs": [
    {
     "data": {
      "image/png": "[encoded data removed]",
      "text/plain": [
       "<Figure size 576x432 with 2 Axes>"
      ]
     },
     "metadata": {
      "needs_background": "light"
     },
     "output_type": "display_data"
    }
   ],
   "source": [
    "#Correlation\n",
    "\n",
    "corr_matrix = X.corr()\n",
    "\n",
    "#Plot Heatmap\n",
    "\n",
    "plt.figure(figsize=(8,6))\n",
    "plt.title('Correlation Heatmap')\n",
    "a = sns.heatmap(corr_matrix, square=True, annot=True, fmt='.2f', linecolor='black')\n",
    "a.set_xticklabels(a.get_xticklabels(), rotation=30)\n",
    "a.set_yticklabels(a.get_yticklabels(), rotation=30)           \n",
    "plt.show() "
   ]
  },
  {
   "cell_type": "code",
   "execution_count": 4,
   "id": "751f8703",
   "metadata": {
    "scrolled": true
   },
   "outputs": [
    {
     "name": "stdout",
     "output_type": "stream",
     "text": [
      "['X5', 'X6']\n"
     ]
    }
   ],
   "source": [
    "#Drop columns with high correlation.\n",
    "\n",
    "upper = corr_matrix.where(np.triu(np.ones(corr_matrix.shape), k=1).astype(bool))\n",
    "to_drop = [column for column in upper.columns if any(upper[column] > 0.4)]\n",
    "print(to_drop)"
   ]
  },
  {
   "cell_type": "code",
   "execution_count": 5,
   "id": "27c46105",
   "metadata": {},
   "outputs": [
    {
     "data": {
      "text/plain": [
       "array([[3, 2],\n",
       "       [3, 4],\n",
       "       [5, 3],\n",
       "       [5, 3],\n",
       "       [5, 3],\n",
       "       [5, 5],\n",
       "       [3, 1],\n",
       "       [5, 4],\n",
       "       [4, 4],\n",
       "       [4, 5],\n",
       "       [3, 2],\n",
       "       [4, 4],\n",
       "       [5, 5],\n",
       "       [4, 4],\n",
       "       [4, 4],\n",
       "       [3, 4],\n",
       "       [5, 4],\n",
       "       [5, 4],\n",
       "       [5, 4],\n",
       "       [4, 4],\n",
       "       [4, 4],\n",
       "       [4, 5],\n",
       "       [4, 5],\n",
       "       [5, 2],\n",
       "       [4, 3],\n",
       "       [3, 2],\n",
       "       [3, 5],\n",
       "       [3, 3],\n",
       "       [3, 3],\n",
       "       [5, 5],\n",
       "       [5, 5],\n",
       "       [4, 4],\n",
       "       [3, 4],\n",
       "       [3, 4],\n",
       "       [4, 1],\n",
       "       [4, 4],\n",
       "       [5, 4],\n",
       "       [5, 4],\n",
       "       [5, 2],\n",
       "       [4, 2],\n",
       "       [5, 3],\n",
       "       [4, 2],\n",
       "       [5, 4],\n",
       "       [4, 2],\n",
       "       [3, 3],\n",
       "       [5, 4],\n",
       "       [5, 4],\n",
       "       [1, 1],\n",
       "       [5, 5],\n",
       "       [5, 4],\n",
       "       [5, 4],\n",
       "       [5, 4],\n",
       "       [5, 4],\n",
       "       [5, 4],\n",
       "       [4, 3],\n",
       "       [4, 3],\n",
       "       [5, 3],\n",
       "       [4, 3],\n",
       "       [5, 4],\n",
       "       [5, 2],\n",
       "       [4, 3],\n",
       "       [5, 5],\n",
       "       [5, 5],\n",
       "       [5, 5],\n",
       "       [4, 4],\n",
       "       [4, 4],\n",
       "       [3, 4],\n",
       "       [4, 4],\n",
       "       [5, 5],\n",
       "       [5, 5],\n",
       "       [4, 3],\n",
       "       [4, 1],\n",
       "       [4, 2],\n",
       "       [5, 2],\n",
       "       [5, 5],\n",
       "       [3, 4],\n",
       "       [4, 2],\n",
       "       [5, 5],\n",
       "       [5, 2],\n",
       "       [5, 5],\n",
       "       [4, 4],\n",
       "       [3, 3],\n",
       "       [4, 4],\n",
       "       [5, 4],\n",
       "       [4, 2],\n",
       "       [5, 4],\n",
       "       [5, 5],\n",
       "       [4, 4],\n",
       "       [5, 3],\n",
       "       [3, 2],\n",
       "       [3, 5],\n",
       "       [5, 5],\n",
       "       [5, 5],\n",
       "       [5, 4],\n",
       "       [3, 1],\n",
       "       [5, 5],\n",
       "       [4, 3],\n",
       "       [5, 5],\n",
       "       [4, 3],\n",
       "       [3, 4],\n",
       "       [5, 5],\n",
       "       [5, 4],\n",
       "       [5, 3],\n",
       "       [4, 3],\n",
       "       [4, 3],\n",
       "       [5, 5],\n",
       "       [5, 5],\n",
       "       [4, 4],\n",
       "       [5, 5],\n",
       "       [5, 4],\n",
       "       [5, 4],\n",
       "       [5, 4],\n",
       "       [4, 3],\n",
       "       [5, 4],\n",
       "       [5, 4],\n",
       "       [5, 5],\n",
       "       [3, 1],\n",
       "       [5, 5],\n",
       "       [4, 4],\n",
       "       [5, 5],\n",
       "       [4, 1],\n",
       "       [5, 4],\n",
       "       [5, 2],\n",
       "       [5, 4],\n",
       "       [4, 4],\n",
       "       [5, 5]], dtype=int64)"
      ]
     },
     "execution_count": 5,
     "metadata": {},
     "output_type": "execute_result"
    }
   ],
   "source": [
    "#ANOVA F Value\n",
    "\n",
    "fvalue_selector = SelectKBest(f_classif, k=2)\n",
    "\n",
    "X_kbest = fvalue_selector.fit_transform(X, y)\n",
    "\n",
    "X_kbest"
   ]
  },
  {
   "cell_type": "code",
   "execution_count": 6,
   "id": "16203bf1",
   "metadata": {},
   "outputs": [],
   "source": [
    "#Keep X1 and X5."
   ]
  },
  {
   "cell_type": "markdown",
   "id": "aebcfe49",
   "metadata": {},
   "source": [
    "## 1.1 Logistic Regression"
   ]
  },
  {
   "cell_type": "code",
   "execution_count": 7,
   "id": "a5ed007d",
   "metadata": {
    "scrolled": true
   },
   "outputs": [
    {
     "name": "stdout",
     "output_type": "stream",
     "text": [
      "Accuracy (include all): 52.38095238095239%\n",
      "Accuracy (variance): 53.96825396825397%\n",
      "Accuracy (corralation): 53.96825396825397%\n",
      "Accuracy (ANOVA): 57.14285714285713%\n"
     ]
    }
   ],
   "source": [
    "kf = KFold(n_splits=6, shuffle=True, random_state=1)\n",
    "\n",
    "logreg = LogisticRegression()\n",
    "\n",
    "scores = cross_val_score(logreg, X, y, scoring='accuracy', cv=kf, n_jobs=-1)\n",
    "print(f'Accuracy (include all): {np.mean(scores)*100}%')\n",
    "\n",
    "#Drop by variance.\n",
    "\n",
    "columns = ['X2', 'X3', 'X5']\n",
    "X_drop_var = data[columns]\n",
    "\n",
    "scores = cross_val_score(logreg, X_drop_var, y, scoring='accuracy', cv=kf, n_jobs=-1)\n",
    "print(f'Accuracy (variance): {np.mean(scores)*100}%')\n",
    "\n",
    "#Drop by correlation.\n",
    "\n",
    "columns = ['X1', 'X2', 'X3', 'X4']\n",
    "X_drop_corr = data[columns]\n",
    "\n",
    "scores = cross_val_score(logreg, X_drop_corr, y, scoring='accuracy', cv=kf, n_jobs=-1)\n",
    "print(f'Accuracy (corralation): {np.mean(scores)*100}%')\n",
    "\n",
    "#Keep by ANOVA\n",
    "\n",
    "columns = ['X1', 'X5']\n",
    "X_keep_ANOVA = data[columns]\n",
    "\n",
    "scores = cross_val_score(logreg, X_keep_ANOVA, y, scoring='accuracy', cv=kf, n_jobs=-1)\n",
    "print(f'Accuracy (ANOVA): {np.mean(scores)*100}%')"
   ]
  },
  {
   "cell_type": "markdown",
   "id": "0f41d132",
   "metadata": {},
   "source": [
    "## 1.2 XGBoost"
   ]
  },
  {
   "cell_type": "code",
   "execution_count": 8,
   "id": "3996ccaa",
   "metadata": {},
   "outputs": [
    {
     "name": "stdout",
     "output_type": "stream",
     "text": [
      "Accuracy (include all): 60.317460317460316%\n",
      "Accuracy (variance): 53.17460317460318%\n",
      "Accuracy (correlation): 53.96825396825397%\n",
      "Accuracy (ANOVA): 63.49206349206349%\n"
     ]
    }
   ],
   "source": [
    "xgb = XGBClassifier()\n",
    "\n",
    "scores = cross_val_score(xgb, X, y, scoring='accuracy', cv=kf, n_jobs=-1)\n",
    "print(f'Accuracy (include all): {np.mean(scores)*100}%')\n",
    "\n",
    "#Drop by variance.\n",
    "\n",
    "scores = cross_val_score(xgb, X_drop_var, y, scoring='accuracy', cv=kf, n_jobs=-1)\n",
    "print(f'Accuracy (variance): {np.mean(scores)*100}%')\n",
    "\n",
    "#Drop by correlation.\n",
    "\n",
    "scores = cross_val_score(xgb, X_drop_corr, y, scoring='accuracy', cv=kf, n_jobs=-1)\n",
    "print(f'Accuracy (correlation): {np.mean(scores)*100}%')\n",
    "\n",
    "#Keep by ANOVA\n",
    "\n",
    "scores = cross_val_score(xgb, X_keep_ANOVA, y, scoring='accuracy', cv=kf, n_jobs=-1)\n",
    "print(f'Accuracy (ANOVA): {np.mean(scores)*100}%')"
   ]
  },
  {
   "cell_type": "markdown",
   "id": "b435d085",
   "metadata": {},
   "source": [
    "## 1.3 KNN"
   ]
  },
  {
   "cell_type": "code",
   "execution_count": 9,
   "id": "3893cd01",
   "metadata": {},
   "outputs": [
    {
     "name": "stdout",
     "output_type": "stream",
     "text": [
      "Accuracy (include all): 57.14285714285715%\n",
      "Accuracy (variance): 53.96825396825397%\n",
      "Accuracy (correlation): 50.0%\n",
      "Accuracy (ANOVA): 60.317460317460316%\n"
     ]
    }
   ],
   "source": [
    "knn = KNeighborsClassifier(n_neighbors=15)\n",
    "\n",
    "scores = cross_val_score(knn, X, y, scoring='accuracy', cv=kf, n_jobs=-1)\n",
    "print(f'Accuracy (include all): {np.mean(scores)*100}%')\n",
    "\n",
    "#Drop by variance.\n",
    "\n",
    "scores = cross_val_score(knn, X_drop_var, y, scoring='accuracy', cv=kf, n_jobs=-1)\n",
    "print(f'Accuracy (variance): {np.mean(scores)*100}%')\n",
    "\n",
    "#Drop by correlation.\n",
    "\n",
    "scores = cross_val_score(knn, X_drop_corr, y, scoring='accuracy', cv=kf, n_jobs=-1)\n",
    "print(f'Accuracy (correlation): {np.mean(scores)*100}%')\n",
    "\n",
    "#Keep by ANOVA\n",
    "\n",
    "scores = cross_val_score(knn, X_keep_ANOVA, y, scoring='accuracy', cv=kf, n_jobs=-1)\n",
    "print(f'Accuracy (ANOVA): {np.mean(scores)*100}%')"
   ]
  },
  {
   "cell_type": "code",
   "execution_count": 10,
   "id": "4f2960b2",
   "metadata": {},
   "outputs": [
    {
     "data": {
      "image/png": "[encoded data removed]",
      "text/plain": [
       "<Figure size 432x288 with 1 Axes>"
      ]
     },
     "metadata": {
      "needs_background": "light"
     },
     "output_type": "display_data"
    }
   ],
   "source": [
    "N = []\n",
    "scores = []\n",
    "for n in range(1,31):\n",
    "    N.append(n)\n",
    "    knn = KNeighborsClassifier(n_neighbors=n)\n",
    "    scores.append(np.mean(cross_val_score(knn, X, y, scoring='accuracy', cv=kf, n_jobs=-1))*100)\n",
    "    \n",
    "plt.plot(N, scores)\n",
    "plt.xlabel('N Neighbors')\n",
    "plt.ylabel('Accuracy (%)')\n",
    "plt.grid(True)"
   ]
  },
  {
   "cell_type": "markdown",
   "id": "3e19d5dd",
   "metadata": {},
   "source": [
    "## 1.4 Decision Tree"
   ]
  },
  {
   "cell_type": "code",
   "execution_count": 11,
   "id": "173abd9c",
   "metadata": {},
   "outputs": [
    {
     "name": "stdout",
     "output_type": "stream",
     "text": [
      "Accuracy (include all): 57.14285714285714%\n",
      "Accuracy (variance): 51.587301587301596%\n",
      "Accuracy (correlation): 56.34920634920635%\n",
      "Accuracy (ANOVA): 64.28571428571429%\n"
     ]
    }
   ],
   "source": [
    "tree = DecisionTreeClassifier()\n",
    "\n",
    "scores = cross_val_score(tree, X, y, scoring='accuracy', cv=kf, n_jobs=-1)\n",
    "print(f'Accuracy (include all): {np.mean(scores)*100}%')\n",
    "\n",
    "#Drop by variance.\n",
    "\n",
    "scores = cross_val_score(tree, X_drop_var, y, scoring='accuracy', cv=kf, n_jobs=-1)\n",
    "print(f'Accuracy (variance): {np.mean(scores)*100}%')\n",
    "\n",
    "#Drop by correlation.\n",
    "\n",
    "scores = cross_val_score(tree, X_drop_corr, y, scoring='accuracy', cv=kf, n_jobs=-1)\n",
    "print(f'Accuracy (correlation): {np.mean(scores)*100}%')\n",
    "\n",
    "#Keep by ANOVA\n",
    "\n",
    "scores = cross_val_score(tree, X_keep_ANOVA, y, scoring='accuracy', cv=kf, n_jobs=-1)\n",
    "print(f'Accuracy (ANOVA): {np.mean(scores)*100}%')"
   ]
  },
  {
   "cell_type": "markdown",
   "id": "0ea53ed6",
   "metadata": {},
   "source": [
    "## 2.0 HP Optimisation"
   ]
  },
  {
   "cell_type": "code",
   "execution_count": 12,
   "id": "62be328d",
   "metadata": {},
   "outputs": [],
   "source": [
    "space = {'eta': hp.uniform('eta', 0, 1),\n",
    "         'gamma': hp.uniform('gamma', 0, 10),\n",
    "         'max_depth': hp.quniform('max_depth', 1, 20, 1),\n",
    "         'min_child_weight': hp.quniform('min_child_weight', 0, 10, 1),\n",
    "         'seed': 0}\n",
    "\n",
    "def objective(space):\n",
    "    clf=XGBClassifier(eta=space['eta'],\n",
    "                      gamma=space['gamma'],\n",
    "                      max_depth=int(space['max_depth']),\n",
    "                      min_child_weight=int(space['min_child_weight'])\n",
    "                     )\n",
    "    \n",
    "    scores = cross_val_score(clf, X_keep_ANOVA, y, \n",
    "                             scoring='accuracy', cv=kf, n_jobs=-1)\n",
    "    acc = np.mean(scores)\n",
    "    \n",
    "    print(f'Score: {acc}')\n",
    "    return {'loss':-acc, 'status': STATUS_OK}"
   ]
  },
  {
   "cell_type": "code",
   "execution_count": 13,
   "id": "96a135f4",
   "metadata": {},
   "outputs": [
    {
     "name": "stdout",
     "output_type": "stream",
     "text": [
      "Score: 0.5317460317460317                              \n",
      "Score: 0.6428571428571429                                                         \n",
      "Score: 0.5793650793650794                                                         \n",
      "Score: 0.5238095238095238                                                         \n",
      "Score: 0.5317460317460317                                                         \n",
      "Score: 0.5238095238095238                                                         \n",
      "Score: 0.5317460317460317                                                         \n",
      "Score: 0.6428571428571429                                                         \n",
      "Score: 0.5317460317460317                                                         \n",
      "Score: 0.5238095238095238                                                         \n",
      "Score: 0.6031746031746031                                                         \n",
      "Score: 0.5317460317460317                                                          \n",
      "Score: 0.6507936507936508                                                          \n",
      "Score: 0.5952380952380952                                                          \n",
      "Score: 0.5238095238095238                                                          \n",
      "Score: 0.5793650793650794                                                          \n",
      "Score: 0.6507936507936507                                                          \n",
      "Score: 0.5238095238095238                                                          \n",
      "Score: 0.5238095238095238                                                          \n",
      "Score: 0.5317460317460317                                                          \n",
      "Score: 0.6507936507936508                                                          \n",
      "Score: 0.6507936507936508                                                          \n",
      "Score: 0.6111111111111112                                                          \n",
      "Score: 0.6507936507936508                                                          \n",
      "Score: 0.6507936507936508                                                          \n",
      "Score: 0.6111111111111112                                                          \n",
      "Score: 0.6111111111111112                                                          \n",
      "Score: 0.6507936507936508                                                          \n",
      "Score: 0.5317460317460317                                                          \n",
      "Score: 0.6507936507936508                                                          \n",
      "Score: 0.5793650793650794                                                          \n",
      "Score: 0.6507936507936508                                                          \n",
      "Score: 0.5317460317460317                                                          \n",
      "Score: 0.5793650793650794                                                          \n",
      "Score: 0.6111111111111112                                                          \n",
      "Score: 0.5793650793650794                                                          \n",
      "Score: 0.6349206349206349                                                          \n",
      "Score: 0.5793650793650794                                                          \n",
      "Score: 0.5238095238095238                                                          \n",
      "Score: 0.6507936507936508                                                          \n",
      "Score: 0.5317460317460317                                                          \n",
      "Score: 0.6507936507936508                                                          \n",
      "Score: 0.6587301587301587                                                          \n",
      "Score: 0.5873015873015873                                                          \n",
      "Score: 0.5714285714285714                                                          \n",
      "Score: 0.5238095238095238                                                          \n",
      "Score: 0.5317460317460317                                                          \n",
      "Score: 0.6507936507936508                                                          \n",
      "Score: 0.5793650793650794                                                          \n",
      "Score: 0.6746031746031745                                                          \n",
      "Score: 0.6031746031746031                                                          \n",
      "Score: 0.6587301587301587                                                          \n",
      "Score: 0.6587301587301587                                                          \n",
      "Score: 0.6111111111111112                                                          \n",
      "Score: 0.6349206349206349                                                          \n",
      "Score: 0.5793650793650793                                                          \n",
      "Score: 0.5714285714285714                                                          \n",
      "Score: 0.6031746031746033                                                          \n",
      "Score: 0.6587301587301587                                                          \n",
      "Score: 0.6587301587301587                                                          \n",
      "Score: 0.6507936507936508                                                          \n",
      "Score: 0.5317460317460317                                                          \n",
      "Score: 0.6666666666666666                                                          \n",
      "Score: 0.5793650793650793                                                          \n",
      "Score: 0.6666666666666666                                                          \n",
      "Score: 0.6666666666666666                                                          \n",
      "Score: 0.6666666666666666                                                          \n",
      "Score: 0.6428571428571428                                                          \n",
      "Score: 0.5714285714285714                                                          \n",
      "Score: 0.6666666666666666                                                          \n",
      "Score: 0.6507936507936507                                                          \n",
      "Score: 0.5238095238095238                                                          \n",
      "Score: 0.5793650793650794                                                          \n",
      "Score: 0.6428571428571429                                                          \n",
      "Score: 0.6507936507936507                                                          \n",
      "Score: 0.6507936507936508                                                          \n",
      "Score: 0.5714285714285714                                                          \n",
      "Score: 0.5952380952380952                                                          \n",
      "Score: 0.6507936507936507                                                          \n",
      "Score: 0.634920634920635                                                           \n",
      "Score: 0.6507936507936508                                                          \n",
      "Score: 0.6587301587301587                                                          \n",
      "Score: 0.6428571428571429                                                          \n",
      "Score: 0.5317460317460317                                                          \n",
      "Score: 0.5793650793650794                                                          \n",
      "Score: 0.5238095238095238                                                          \n",
      "Score: 0.619047619047619                                                           \n",
      "Score: 0.5238095238095238                                                          \n",
      "Score: 0.5793650793650794                                                          \n",
      "Score: 0.5238095238095238                                                          \n",
      "Score: 0.6428571428571428                                                          \n",
      "Score: 0.6031746031746031                                                          \n",
      "Score: 0.6507936507936507                                                          \n",
      "Score: 0.6507936507936508                                                          \n",
      "Score: 0.6507936507936508                                                          \n",
      "Score: 0.5714285714285714                                                          \n",
      "Score: 0.6507936507936508                                                          \n",
      "Score: 0.6666666666666666                                                          \n",
      "Score: 0.5238095238095238                                                          \n",
      "Score: 0.6428571428571429                                                          \n",
      "100%|██████████| 100/100 [00:05<00:00, 17.38trial/s, best loss: -0.6746031746031745]\n"
     ]
    }
   ],
   "source": [
    "trials = Trials()\n",
    "\n",
    "opt = fmin(fn=objective, \n",
    "           space=space,\n",
    "           algo=tpe.suggest,\n",
    "           max_evals=100,\n",
    "           trials=trials)"
   ]
  },
  {
   "cell_type": "code",
   "execution_count": 14,
   "id": "a9a67fcd",
   "metadata": {},
   "outputs": [
    {
     "name": "stdout",
     "output_type": "stream",
     "text": [
      "{'eta': 0.839945319302015, 'gamma': 2.7184026276301116, 'max_depth': 18.0, 'min_child_weight': 2.0}\n"
     ]
    }
   ],
   "source": [
    "print(opt)"
   ]
  },
  {
   "cell_type": "code",
   "execution_count": 15,
   "id": "ebae462f",
   "metadata": {},
   "outputs": [
    {
     "name": "stdout",
     "output_type": "stream",
     "text": [
      "Accuracy: 67.46031746031746%\n",
      "[0.71428571 0.61904762 0.52380952 0.61904762 0.80952381 0.76190476]\n"
     ]
    }
   ],
   "source": [
    "xgb_opt = XGBClassifier(eta=opt['eta'], \n",
    "                        gamma=opt['gamma'],\n",
    "                        max_depth=int(opt['max_depth']),\n",
    "                        min_child_weight=int(opt['min_child_weight'])\n",
    "                       )\n",
    "\n",
    "scores = cross_val_score(xgb_opt, X_keep_ANOVA, y, \n",
    "                         scoring='accuracy', cv=kf, n_jobs=-1)\n",
    "print(f'Accuracy: {np.mean(scores)*100}%')\n",
    "print(scores)"
   ]
  },
  {
   "cell_type": "markdown",
   "id": "d2dd1156",
   "metadata": {},
   "source": [
    "## 3.0 Model Explanation"
   ]
  },
  {
   "cell_type": "code",
   "execution_count": 29,
   "id": "6b5eaec6",
   "metadata": {},
   "outputs": [
    {
     "data": {
      "text/plain": [
       "XGBClassifier(base_score=0.5, booster='gbtree', callbacks=None,\n",
       "              colsample_bylevel=1, colsample_bynode=1, colsample_bytree=1,\n",
       "              early_stopping_rounds=None, enable_categorical=False,\n",
       "              eta=0.839945319302015, eval_metric=None, gamma=2.7184026276301116,\n",
       "              gpu_id=-1, grow_policy='depthwise', importance_type=None,\n",
       "              interaction_constraints='', learning_rate=0.839945316,\n",
       "              max_bin=256, max_cat_to_onehot=4, max_delta_step=0, max_depth=18,\n",
       "              max_leaves=0, min_child_weight=2, missing=nan,\n",
       "              monotone_constraints='()', n_estimators=100, n_jobs=0,\n",
       "              num_parallel_tree=1, predictor='auto', random_state=0,\n",
       "              reg_alpha=0, ...)"
      ]
     },
     "execution_count": 29,
     "metadata": {},
     "output_type": "execute_result"
    }
   ],
   "source": [
    "#Fit model\n",
    "columns = ['X1', 'X5']\n",
    "X = data[columns]\n",
    "y = data['Y']\n",
    "X_train, X_test, y_train, y_test = train_test_split(X, y, random_state=1)\n",
    "xgb_opt.fit(X_train, y_train)"
   ]
  },
  {
   "cell_type": "code",
   "execution_count": 30,
   "id": "2877b64b",
   "metadata": {},
   "outputs": [],
   "source": [
    "#Get shap values.\n",
    "exp = shap.TreeExplainer(xgb_opt)\n",
    "shap_values_test = exp.shap_values(X_test)\n",
    "shap_values_train = exp.shap_values(X_train)\n",
    "\n",
    "df_shap_test = pd.DataFrame(shap_values_test, columns=X_test.columns.values)\n",
    "df_shap_train = pd.DataFrame(shap_values_train, columns=X_train.columns.values)"
   ]
  },
  {
   "cell_type": "code",
   "execution_count": 31,
   "id": "fa477644",
   "metadata": {},
   "outputs": [],
   "source": [
    "#Initialize\n",
    "j = 0\n",
    "shap.initjs\n",
    "\n",
    "categorical_features = np.argwhere(np.array([len(set(X_train.values[:,x]))\n",
    "for x in range(X_train.values.shape[1])]) <= 10).flatten()"
   ]
  },
  {
   "cell_type": "code",
   "execution_count": 32,
   "id": "21b6860f",
   "metadata": {},
   "outputs": [
    {
     "data": {
      "image/png": "[encoded data removed]",
      "text/plain": [
       "<Figure size 1440x216 with 1 Axes>"
      ]
     },
     "metadata": {
      "needs_background": "light"
     },
     "output_type": "display_data"
    }
   ],
   "source": [
    "shap.force_plot(exp.expected_value, shap_values_test[j], X_test.iloc[[j]], matplotlib=True)"
   ]
  },
  {
   "cell_type": "code",
   "execution_count": 33,
   "id": "a3cd63c8",
   "metadata": {},
   "outputs": [
    {
     "data": {
      "image/png": "[encoded data removed]",
      "text/plain": [
       "<Figure size 576x165.6 with 1 Axes>"
      ]
     },
     "metadata": {
      "needs_background": "light"
     },
     "output_type": "display_data"
    }
   ],
   "source": [
    "shap.summary_plot(shap_values_train, X_train, plot_type='bar')"
   ]
  },
  {
   "cell_type": "code",
   "execution_count": 34,
   "id": "6630a2bf",
   "metadata": {},
   "outputs": [
    {
     "data": {
      "image/png": "[encoded data removed]",
      "text/plain": [
       "<Figure size 576x165.6 with 2 Axes>"
      ]
     },
     "metadata": {
      "needs_background": "light"
     },
     "output_type": "display_data"
    }
   ],
   "source": [
    "shap.summary_plot(shap_values_train, X_train)"
   ]
  },
  {
   "cell_type": "code",
   "execution_count": 36,
   "id": "74f5747a",
   "metadata": {},
   "outputs": [
    {
     "data": {
      "image/png": "[encoded data removed]",
      "text/plain": [
       "<Figure size 540x360 with 2 Axes>"
      ]
     },
     "metadata": {
      "needs_background": "light"
     },
     "output_type": "display_data"
    }
   ],
   "source": [
    "shp_plt = shap.dependence_plot('X1', shap_values_train, X_train)"
   ]
  },
  {
   "cell_type": "code",
   "execution_count": 37,
   "id": "8c846a3e",
   "metadata": {},
   "outputs": [
    {
     "data": {
      "image/png": "[encoded data removed]",
      "text/plain": [
       "<Figure size 540x360 with 2 Axes>"
      ]
     },
     "metadata": {
      "needs_background": "light"
     },
     "output_type": "display_data"
    }
   ],
   "source": [
    "shp_plt = shap.dependence_plot('X5', shap_values_train, X_train)"
   ]
  }
 ],
 "metadata": {
  "kernelspec": {
   "display_name": "Python 3",
   "language": "python",
   "name": "python3"
  },
  "language_info": {
   "codemirror_mode": {
    "name": "ipython",
    "version": 3
   },
   "file_extension": ".py",
   "mimetype": "text/x-python",
   "name": "python",
   "nbconvert_exporter": "python",
   "pygments_lexer": "ipython3",
   "version": "3.8.8"
  }
 },
 "nbformat": 4,
 "nbformat_minor": 5
}
