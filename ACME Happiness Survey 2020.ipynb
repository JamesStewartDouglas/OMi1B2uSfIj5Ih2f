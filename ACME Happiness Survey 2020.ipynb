{
 "cells": [
  {
   "cell_type": "markdown",
   "id": "b7fcc44f",
   "metadata": {},
   "source": [
    "# ACME Happiness Survey 2020 - Apziva Project 1\n",
    "\n",
    "This project involves classifying customers by satisfaction based on multiple factors. This project is split into two parts: The first is a classification model using linear and logistic regression, the second part involves an analysis of the factors to determine which are most predictive."
   ]
  },
  {
   "cell_type": "code",
   "execution_count": 1,
   "id": "89d60853",
   "metadata": {},
   "outputs": [
    {
     "data": {
      "text/html": [
       "<div>\n",
       "<style scoped>\n",
       "    .dataframe tbody tr th:only-of-type {\n",
       "        vertical-align: middle;\n",
       "    }\n",
       "\n",
       "    .dataframe tbody tr th {\n",
       "        vertical-align: top;\n",
       "    }\n",
       "\n",
       "    .dataframe thead th {\n",
       "        text-align: right;\n",
       "    }\n",
       "</style>\n",
       "<table border=\"1\" class=\"dataframe\">\n",
       "  <thead>\n",
       "    <tr style=\"text-align: right;\">\n",
       "      <th></th>\n",
       "      <th>Y</th>\n",
       "      <th>X1</th>\n",
       "      <th>X2</th>\n",
       "      <th>X3</th>\n",
       "      <th>X4</th>\n",
       "      <th>X5</th>\n",
       "      <th>X6</th>\n",
       "    </tr>\n",
       "  </thead>\n",
       "  <tbody>\n",
       "    <tr>\n",
       "      <th>0</th>\n",
       "      <td>0</td>\n",
       "      <td>3</td>\n",
       "      <td>3</td>\n",
       "      <td>3</td>\n",
       "      <td>4</td>\n",
       "      <td>2</td>\n",
       "      <td>4</td>\n",
       "    </tr>\n",
       "    <tr>\n",
       "      <th>1</th>\n",
       "      <td>0</td>\n",
       "      <td>3</td>\n",
       "      <td>2</td>\n",
       "      <td>3</td>\n",
       "      <td>5</td>\n",
       "      <td>4</td>\n",
       "      <td>3</td>\n",
       "    </tr>\n",
       "    <tr>\n",
       "      <th>2</th>\n",
       "      <td>1</td>\n",
       "      <td>5</td>\n",
       "      <td>3</td>\n",
       "      <td>3</td>\n",
       "      <td>3</td>\n",
       "      <td>3</td>\n",
       "      <td>5</td>\n",
       "    </tr>\n",
       "    <tr>\n",
       "      <th>3</th>\n",
       "      <td>0</td>\n",
       "      <td>5</td>\n",
       "      <td>4</td>\n",
       "      <td>3</td>\n",
       "      <td>3</td>\n",
       "      <td>3</td>\n",
       "      <td>5</td>\n",
       "    </tr>\n",
       "    <tr>\n",
       "      <th>4</th>\n",
       "      <td>0</td>\n",
       "      <td>5</td>\n",
       "      <td>4</td>\n",
       "      <td>3</td>\n",
       "      <td>3</td>\n",
       "      <td>3</td>\n",
       "      <td>5</td>\n",
       "    </tr>\n",
       "  </tbody>\n",
       "</table>\n",
       "</div>"
      ],
      "text/plain": [
       "   Y  X1  X2  X3  X4  X5  X6\n",
       "0  0   3   3   3   4   2   4\n",
       "1  0   3   2   3   5   4   3\n",
       "2  1   5   3   3   3   3   5\n",
       "3  0   5   4   3   3   3   5\n",
       "4  0   5   4   3   3   3   5"
      ]
     },
     "execution_count": 1,
     "metadata": {},
     "output_type": "execute_result"
    }
   ],
   "source": [
    "#Import data.\n",
    "\n",
    "import numpy as np\n",
    "import pandas as pd\n",
    "import matplotlib.pyplot as plt\n",
    "import seaborn as sns\n",
    "from sklearn.model_selection import train_test_split\n",
    "from sklearn.linear_model import LinearRegression\n",
    "from sklearn.linear_model import LogisticRegression\n",
    "from sklearn import metrics\n",
    "\n",
    "data = pd.read_csv('ACME-HappinessSurvey2020.csv')\n",
    "data.head()"
   ]
  },
  {
   "cell_type": "markdown",
   "id": "bad4d29c",
   "metadata": {},
   "source": [
    "# 1.0 Classification"
   ]
  },
  {
   "cell_type": "code",
   "execution_count": 2,
   "id": "09aeff89",
   "metadata": {},
   "outputs": [
    {
     "name": "stdout",
     "output_type": "stream",
     "text": [
      "1    69\n",
      "0    57\n",
      "Name: Y, dtype: int64\n"
     ]
    }
   ],
   "source": [
    "#Measure output sample sizes to see if they are disproportionately different.\n",
    "\n",
    "counts = data['Y'].value_counts()\n",
    "print(counts)"
   ]
  },
  {
   "cell_type": "markdown",
   "id": "cd21ed10",
   "metadata": {},
   "source": [
    "Above sample sizes appear within acceptable parameters (not disproportionately different). Data now ready for linear regression.\n",
    "\n",
    "## 1.1 Linear Regression"
   ]
  },
  {
   "cell_type": "code",
   "execution_count": 3,
   "id": "1f929ef4",
   "metadata": {},
   "outputs": [],
   "source": [
    "#Prepare data for linear regression model.\n",
    "\n",
    "train, test = train_test_split(data, test_size=0.2)\n",
    "x_train = np.array(train['X1']).reshape((-1, 1))\n",
    "y_train = np.array(train['Y'])"
   ]
  },
  {
   "cell_type": "code",
   "execution_count": 4,
   "id": "453cd809",
   "metadata": {},
   "outputs": [
    {
     "name": "stdout",
     "output_type": "stream",
     "text": [
      "y = -0.13899613899613894 + 0.16988416988416988x\n",
      "R2: 0.07786357786357778\n"
     ]
    }
   ],
   "source": [
    "#Linear regression model.\n",
    "\n",
    "uv_model = LinearRegression().fit(x_train, y_train)\n",
    "\n",
    "print(f'y = {uv_model.intercept_} + {uv_model.coef_[0]}x')\n",
    "print(f'R2: {uv_model.score(x_train, y_train)}')"
   ]
  },
  {
   "cell_type": "code",
   "execution_count": 5,
   "id": "f8c25860",
   "metadata": {},
   "outputs": [
    {
     "name": "stdout",
     "output_type": "stream",
     "text": [
      "[0.54054054 0.54054054 0.37065637 0.71042471 0.71042471 0.54054054\n",
      " 0.54054054 0.37065637 0.71042471 0.37065637 0.71042471 0.54054054\n",
      " 0.71042471 0.54054054 0.71042471 0.54054054 0.71042471 0.37065637\n",
      " 0.71042471 0.54054054 0.71042471 0.54054054 0.71042471 0.71042471\n",
      " 0.37065637 0.71042471]\n"
     ]
    }
   ],
   "source": [
    "#Predict using x_test.\n",
    "\n",
    "x_test = np.array(test['X1']).reshape((-1, 1))\n",
    "y_test = np.array(test['Y'])\n",
    "y_pred = uv_model.predict(x_test)\n",
    "\n",
    "print(y_pred)"
   ]
  },
  {
   "cell_type": "code",
   "execution_count": 6,
   "id": "3d41c080",
   "metadata": {},
   "outputs": [
    {
     "name": "stdout",
     "output_type": "stream",
     "text": [
      "[1 1 0 1 1 1 1 0 1 0 1 1 1 1 1 1 1 0 1 1 1 1 1 1 0 1]\n",
      "[0 0 0 0 0 0 1 0 1 1 0 0 1 0 1 1 0 0 0 0 0 0 1 1 0 1]\n"
     ]
    }
   ],
   "source": [
    "#Convert y_pred to binary values.\n",
    "\n",
    "binary_y_pred = np.array([1 if y >= 0.5 else 0 for y in y_pred])\n",
    "print(binary_y_pred)\n",
    "print(y_test)"
   ]
  },
  {
   "cell_type": "code",
   "execution_count": 7,
   "id": "73be0d54",
   "metadata": {},
   "outputs": [
    {
     "name": "stdout",
     "output_type": "stream",
     "text": [
      "Accuracy: 46.15%\n"
     ]
    }
   ],
   "source": [
    "#Display accuracy measurements.\n",
    "#Correct estimates / Total estimates (26)\n",
    "\n",
    "correct = np.sum(binary_y_pred == y_test)\n",
    "total = len(y_test)\n",
    "\n",
    "accuracy = (correct / total) * 100\n",
    "accuracy = round(accuracy, 2)\n",
    "print(f'Accuracy: {accuracy}%')"
   ]
  },
  {
   "cell_type": "code",
   "execution_count": 8,
   "id": "7a9959fb",
   "metadata": {},
   "outputs": [
    {
     "data": {
      "text/plain": [
       "Text(0.5, 15.0, 'Predicted')"
      ]
     },
     "execution_count": 8,
     "metadata": {},
     "output_type": "execute_result"
    },
    {
     "data": {
      "image/png": "[encoded data removed]",
      "text/plain": [
       "<Figure size 432x288 with 2 Axes>"
      ]
     },
     "metadata": {
      "needs_background": "light"
     },
     "output_type": "display_data"
    }
   ],
   "source": [
    "#Confusion matrix.\n",
    "\n",
    "conf_matrix = metrics.confusion_matrix(y_test, binary_y_pred)\n",
    "\n",
    "class_names = ('Unsatisfied', 'Satisfied')\n",
    "fig, ax = plt.subplots()\n",
    "tick_marks = np.arange(len(class_names))\n",
    "plt.xticks(tick_marks, class_names)\n",
    "plt.yticks(tick_marks, class_names)\n",
    "sns.heatmap(pd.DataFrame(conf_matrix), annot=True, cmap='YlGnBu', fmt='g')\n",
    "plt.tight_layout()\n",
    "plt.title('Confusion Matrix - Linear Regression')\n",
    "plt.ylabel('Actual')\n",
    "plt.xlabel('Predicted')"
   ]
  },
  {
   "cell_type": "markdown",
   "id": "aebcfe49",
   "metadata": {},
   "source": [
    "Univariate model has low accuracy.\n",
    "\n",
    "## 1.2 Multiple Linear Regression"
   ]
  },
  {
   "cell_type": "code",
   "execution_count": 9,
   "id": "be460515",
   "metadata": {},
   "outputs": [],
   "source": [
    "#Train-Test split (80%).\n",
    "\n",
    "train, test = train_test_split(data, test_size=0.2)"
   ]
  },
  {
   "cell_type": "code",
   "execution_count": 10,
   "id": "eee5c076",
   "metadata": {},
   "outputs": [],
   "source": [
    "#Prepare data for multiple regression.\n",
    "\n",
    "y_train = np.array(train['Y'])\n",
    "\n",
    "#Function which will get proper array from dataframe.\n",
    "def get_x_from(df):\n",
    "    arr = []\n",
    "    for col in ['X1', 'X2', 'X3', 'X4', 'X5', 'X6']:\n",
    "        arr.append(np.array(df[col]))\n",
    "    arr = np.array(arr)\n",
    "    arr = arr.reshape(arr.shape[1], arr.shape[0])\n",
    "    return arr\n",
    "\n",
    "x_train = get_x_from(train)"
   ]
  },
  {
   "cell_type": "code",
   "execution_count": 11,
   "id": "62b62250",
   "metadata": {},
   "outputs": [
    {
     "name": "stdout",
     "output_type": "stream",
     "text": [
      "Intercept: 0.42798312245113024\n",
      "Coefficients: [ 0.00526952  0.02157194 -0.00369419  0.03671261 -0.03197154  0.00157857]\n",
      "R2: 0.014480441119093412\n"
     ]
    }
   ],
   "source": [
    "#Create model.\n",
    "\n",
    "mv_model = LinearRegression().fit(x_train, y_train)\n",
    "\n",
    "print(f'Intercept: {mv_model.intercept_}')\n",
    "print(f'Coefficients: {mv_model.coef_}')\n",
    "print(f'R2: {mv_model.score(x_train, y_train)}')"
   ]
  },
  {
   "cell_type": "code",
   "execution_count": 12,
   "id": "f920d764",
   "metadata": {},
   "outputs": [
    {
     "name": "stdout",
     "output_type": "stream",
     "text": [
      "[0.57269548 0.49873857 0.56162152 0.55098086 0.50033576 0.49847831\n",
      " 0.48849552 0.58244581 0.43598708 0.50694137 0.54427545 0.51178224\n",
      " 0.58032696 0.57466842 0.52427884 0.42505903 0.55056405 0.56043519\n",
      " 0.54585078 0.44045401 0.59733691 0.45977089 0.5825634  0.56372854\n",
      " 0.62398067 0.63716702]\n"
     ]
    }
   ],
   "source": [
    "#Make predictions and test.\n",
    "\n",
    "y_test = np.array(test['Y'])\n",
    "x_test = get_x_from(test)\n",
    "\n",
    "y_pred = mv_model.predict(x_test)\n",
    "\n",
    "print(y_pred)"
   ]
  },
  {
   "cell_type": "code",
   "execution_count": 13,
   "id": "52f2dbbb",
   "metadata": {},
   "outputs": [
    {
     "name": "stdout",
     "output_type": "stream",
     "text": [
      "[1 0 1 1 1 0 0 1 0 1 1 1 1 1 1 0 1 1 1 0 1 0 1 1 1 1]\n",
      "[0 0 0 1 0 1 0 1 1 1 1 1 1 1 1 1 1 0 0 1 0 0 0 0 1 1]\n"
     ]
    }
   ],
   "source": [
    "#Convert y_pred to binary values.\n",
    "\n",
    "binary_y_pred = np.array([1 if y >= 0.5 else 0 for y in y_pred])\n",
    "print(binary_y_pred)\n",
    "print(y_test)"
   ]
  },
  {
   "cell_type": "code",
   "execution_count": 14,
   "id": "9e57e438",
   "metadata": {},
   "outputs": [
    {
     "name": "stdout",
     "output_type": "stream",
     "text": [
      "Accuracy: 53.85%\n"
     ]
    }
   ],
   "source": [
    "#Display accuracy measurements.\n",
    "#Correct estimates / Total estimates (26)\n",
    "\n",
    "correct = np.sum(binary_y_pred == y_test)\n",
    "total = len(y_test)\n",
    "\n",
    "accuracy = (correct / total) * 100\n",
    "accuracy = round(accuracy, 2)\n",
    "print(f'Accuracy: {accuracy}%')"
   ]
  },
  {
   "cell_type": "code",
   "execution_count": 15,
   "id": "9f49fc85",
   "metadata": {},
   "outputs": [
    {
     "data": {
      "text/plain": [
       "Text(0.5, 15.0, 'Predicted')"
      ]
     },
     "execution_count": 15,
     "metadata": {},
     "output_type": "execute_result"
    },
    {
     "data": {
      "image/png": "[encoded data removed]",
      "text/plain": [
       "<Figure size 432x288 with 2 Axes>"
      ]
     },
     "metadata": {
      "needs_background": "light"
     },
     "output_type": "display_data"
    }
   ],
   "source": [
    "#Confusion matrix.\n",
    "\n",
    "conf_matrix = metrics.confusion_matrix(y_test, binary_y_pred)\n",
    "\n",
    "class_names = ('Unsatisfied', 'Satisfied')\n",
    "fig, ax = plt.subplots()\n",
    "tick_marks = np.arange(len(class_names))\n",
    "plt.xticks(tick_marks, class_names)\n",
    "plt.yticks(tick_marks, class_names)\n",
    "sns.heatmap(pd.DataFrame(conf_matrix), annot=True, cmap='YlGnBu', fmt='g')\n",
    "plt.tight_layout()\n",
    "plt.title('Confusion Matrix - Multiple Linear Regression')\n",
    "plt.ylabel('Actual')\n",
    "plt.xlabel('Predicted')"
   ]
  },
  {
   "cell_type": "markdown",
   "id": "3e2e3087",
   "metadata": {},
   "source": [
    "Linear regression models continue to show low accuracy. Trying logistic regression models.\n",
    "\n",
    "## 1.3 Logistic Regression"
   ]
  },
  {
   "cell_type": "code",
   "execution_count": 16,
   "id": "42af513a",
   "metadata": {},
   "outputs": [
    {
     "name": "stdout",
     "output_type": "stream",
     "text": [
      "[1 1 1 1 0 0 0 0 0 1 1 1 1 1 0 1 1 0 1 1 1 0 1 1 1 1]\n",
      "[0 1 1 0 1 0 1 1 1 1 1 0 1 1 1 1 1 0 0 0 1 1 0 0 0 1]\n"
     ]
    }
   ],
   "source": [
    "#Train-Test split (80%).\n",
    "\n",
    "train, test = train_test_split(data, test_size=0.2)\n",
    "\n",
    "y_train = np.array(train['Y'])\n",
    "x_train = get_x_from(train)\n",
    "\n",
    "logreg_model = LogisticRegression(random_state=10).fit(x_train, y_train)\n",
    "\n",
    "y_test = np.array(test['Y'])\n",
    "x_test = get_x_from(test)\n",
    "\n",
    "y_pred = logreg_model.predict(x_test)\n",
    "print(y_pred)\n",
    "print(y_test)"
   ]
  },
  {
   "cell_type": "code",
   "execution_count": 17,
   "id": "fe2872d8",
   "metadata": {},
   "outputs": [
    {
     "name": "stdout",
     "output_type": "stream",
     "text": [
      "Accuracy: 46.15%\n"
     ]
    }
   ],
   "source": [
    "#Display accuracy measurements.\n",
    "#Correct estimates / Total estimates (26)\n",
    "\n",
    "correct = np.sum(y_pred == y_test)\n",
    "total = len(y_test)\n",
    "\n",
    "accuracy = (correct / total) * 100\n",
    "accuracy = round(accuracy, 2)\n",
    "print(f'Accuracy: {accuracy}%')"
   ]
  },
  {
   "cell_type": "code",
   "execution_count": 18,
   "id": "13dedf97",
   "metadata": {},
   "outputs": [
    {
     "data": {
      "text/plain": [
       "Text(0.5, 15.0, 'Predicted')"
      ]
     },
     "execution_count": 18,
     "metadata": {},
     "output_type": "execute_result"
    },
    {
     "data": {
      "image/png": "[encoded data removed]",
      "text/plain": [
       "<Figure size 432x288 with 2 Axes>"
      ]
     },
     "metadata": {
      "needs_background": "light"
     },
     "output_type": "display_data"
    }
   ],
   "source": [
    "#Confusion matrix.\n",
    "\n",
    "conf_matrix = metrics.confusion_matrix(y_test, y_pred)\n",
    "\n",
    "class_names = ('Unsatisfied', 'Satisfied')\n",
    "fig, ax = plt.subplots()\n",
    "tick_marks = np.arange(len(class_names))\n",
    "plt.xticks(tick_marks, class_names)\n",
    "plt.yticks(tick_marks, class_names)\n",
    "sns.heatmap(pd.DataFrame(conf_matrix), annot=True, cmap='YlGnBu', fmt='g')\n",
    "plt.tight_layout()\n",
    "plt.title('Confusion Matrix - Logistic Regression')\n",
    "plt.ylabel('Actual')\n",
    "plt.xlabel('Predicted')"
   ]
  },
  {
   "cell_type": "code",
   "execution_count": null,
   "id": "7e912a5a",
   "metadata": {},
   "outputs": [],
   "source": []
  }
 ],
 "metadata": {
  "kernelspec": {
   "display_name": "Python 3",
   "language": "python",
   "name": "python3"
  },
  "language_info": {
   "codemirror_mode": {
    "name": "ipython",
    "version": 3
   },
   "file_extension": ".py",
   "mimetype": "text/x-python",
   "name": "python",
   "nbconvert_exporter": "python",
   "pygments_lexer": "ipython3",
   "version": "3.8.8"
  }
 },
 "nbformat": 4,
 "nbformat_minor": 5
}
